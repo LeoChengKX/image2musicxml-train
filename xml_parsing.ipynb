{
 "cells": [
  {
   "cell_type": "code",
   "execution_count": 44,
   "metadata": {},
   "outputs": [],
   "source": [
    "import xml.etree.ElementTree as ET\n",
    "import os\n",
    "import re\n",
    "import shutil\n",
    "\n",
    "path = \"D:\\\\Programing\\\\python\\\\Transformers\\\\image2musicxml\\\\dataset\\\\MusicXML\\\\accidental tucking.xml\"\n"
   ]
  },
  {
   "cell_type": "code",
   "execution_count": 26,
   "metadata": {},
   "outputs": [
    {
     "data": {
      "text/plain": [
       "1"
      ]
     },
     "execution_count": 26,
     "metadata": {},
     "output_type": "execute_result"
    }
   ],
   "source": [
    "tree = ET.parse(path)\n",
    "root = tree.getroot()\n",
    "\n",
    "# print(list(root))\n",
    "len(root.find(\".//score-part\"))\n",
    "# root.find(\".//part[@id='P1']\")\n",
    "# ET.ElementTree(root[4][0]).write(\"aaa.xml\")\n",
    "    \n",
    "# for name in os.listdir(\"splits\"):\n",
    "    "
   ]
  },
  {
   "cell_type": "code",
   "execution_count": 49,
   "metadata": {},
   "outputs": [],
   "source": [
    "def append_to_xml(filename: str, measure_element):\n",
    "    if os.path.exists(filename):\n",
    "        tree = ET.parse(filename)\n",
    "        root = tree.getroot()\n",
    "    else:\n",
    "        root = ET.Element('root')\n",
    "        tree = ET.ElementTree(root)\n",
    "\n",
    "    if measure_element is not None:\n",
    "        root.append(measure_element)\n",
    "\n",
    "    tree.write(filename)\n",
    "\n",
    "\n",
    "def parse_split():\n",
    "    if os.path.exists(\"train_dataset\\\\xml\"):\n",
    "        shutil.rmtree(\"train_dataset\\\\xml\")\n",
    "    os.mkdir(\"train_dataset\\\\xml\")\n",
    "    splits_names = os.listdir(\"splits\")\n",
    "    xml_names = os.listdir(\"dataset\\\\MusicXML\")[1:]\n",
    "    image_names = []\n",
    "    measures = []\n",
    "    # for i in range(len(splits_names)):\n",
    "    for i in [0]:\n",
    "        temp = []\n",
    "        # print(f\"{splits_names[i]} \\n {xml_names[i]}\\n\")\n",
    "        with open(os.path.join(\"splits\", splits_names[i]), 'r') as f:\n",
    "            f.readline()\n",
    "            for line in f:\n",
    "                image_name, measure = line.strip().split(',')\n",
    "                image_names.append(image_name)\n",
    "                temp.append(int(measure[1:-1]))\n",
    "        measures.append(temp)\n",
    "    \n",
    "    # for i in range(len(splits_names)):\n",
    "    for i in [0]:\n",
    "        m = measures[i]\n",
    "        with open(os.path.join(\"dataset\\\\MusicXML\", xml_names[i])) as f:\n",
    "            root = ET.parse(f)\n",
    "            score_parts = len(root.find(\".//score-part\"))\n",
    "            for part in range(1, score_parts + 1):\n",
    "                part_root = root.find(f\".//part[@id='P{part}']\")\n",
    "                for ind in range(len(m) - 1):\n",
    "                    root = ET.Element('root')\n",
    "                    tree = ET.ElementTree(root)\n",
    "                    for i in range(m[ind], m[ind + 1] + 1):\n",
    "                        root.append(part_root.find(f\".//measure[@number='{i}']\"))\n",
    "                    tree.write(os.path.join(\"train_dataset\", \"xml\", image_names[ind] + \".xml\"))\n",
    "\n",
    "            \n",
    "parse_split()"
   ]
  },
  {
   "cell_type": "code",
   "execution_count": 60,
   "metadata": {},
   "outputs": [
    {
     "name": "stdout",
     "output_type": "stream",
     "text": [
      "0\n"
     ]
    },
    {
     "data": {
      "text/plain": [
       "[]"
      ]
     },
     "execution_count": 60,
     "metadata": {},
     "output_type": "execute_result"
    }
   ],
   "source": [
    "# A special cleaner for beam groups 12 demisemiquavers simpl.csv\n",
    "result = []\n",
    "with open(r\"D:\\Programing\\python\\Transformers\\image2musicxml\\splits\\beam groups 12 demisemiquavers simpl.csv\") as f:\n",
    "    f.readline()\n",
    "    for line in f:\n",
    "        start = line.strip().find(\"-\")\n",
    "        end = line.strip().find(\".\")\n",
    "\n",
    "        page = int(line[start + 1: end])\n",
    "        \n",
    "        measure = int(line.strip().split(\",\")[1])\n",
    "        if measure != page * 3 - 2:\n",
    "            result.append((page, measure))\n",
    "\n",
    "print(len(result))\n",
    "result\n"
   ]
  },
  {
   "cell_type": "code",
   "execution_count": null,
   "metadata": {},
   "outputs": [],
   "source": []
  }
 ],
 "metadata": {
  "kernelspec": {
   "display_name": "venv",
   "language": "python",
   "name": "python3"
  },
  "language_info": {
   "codemirror_mode": {
    "name": "ipython",
    "version": 3
   },
   "file_extension": ".py",
   "mimetype": "text/x-python",
   "name": "python",
   "nbconvert_exporter": "python",
   "pygments_lexer": "ipython3",
   "version": "3.10.5"
  }
 },
 "nbformat": 4,
 "nbformat_minor": 2
}
